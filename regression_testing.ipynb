{
 "cells": [
  {
   "cell_type": "code",
   "execution_count": 1,
   "metadata": {},
   "outputs": [
    {
     "data": {
      "text/html": [
       "<div>\n",
       "<style scoped>\n",
       "    .dataframe tbody tr th:only-of-type {\n",
       "        vertical-align: middle;\n",
       "    }\n",
       "\n",
       "    .dataframe tbody tr th {\n",
       "        vertical-align: top;\n",
       "    }\n",
       "\n",
       "    .dataframe thead th {\n",
       "        text-align: right;\n",
       "    }\n",
       "</style>\n",
       "<table border=\"1\" class=\"dataframe\">\n",
       "  <thead>\n",
       "    <tr style=\"text-align: right;\">\n",
       "      <th></th>\n",
       "      <th>Country</th>\n",
       "      <th>Year</th>\n",
       "      <th>Status</th>\n",
       "      <th>Life expectancy</th>\n",
       "      <th>Adult Mortality</th>\n",
       "      <th>infant deaths</th>\n",
       "      <th>Alcohol</th>\n",
       "      <th>percentage expenditure</th>\n",
       "      <th>Hepatitis B</th>\n",
       "      <th>Measles</th>\n",
       "      <th>...</th>\n",
       "      <th>Polio</th>\n",
       "      <th>Total expenditure</th>\n",
       "      <th>Diphtheria</th>\n",
       "      <th>HIV/AIDS</th>\n",
       "      <th>GDP</th>\n",
       "      <th>Population</th>\n",
       "      <th>thinness  1-19 years</th>\n",
       "      <th>thinness 5-9 years</th>\n",
       "      <th>Income composition of resources</th>\n",
       "      <th>Schooling</th>\n",
       "    </tr>\n",
       "  </thead>\n",
       "  <tbody>\n",
       "    <tr>\n",
       "      <th>0</th>\n",
       "      <td>Afghanistan</td>\n",
       "      <td>2015</td>\n",
       "      <td>Developing</td>\n",
       "      <td>65.0</td>\n",
       "      <td>263.0</td>\n",
       "      <td>62</td>\n",
       "      <td>0.01</td>\n",
       "      <td>71.279624</td>\n",
       "      <td>65.0</td>\n",
       "      <td>1154</td>\n",
       "      <td>...</td>\n",
       "      <td>6.0</td>\n",
       "      <td>8.16</td>\n",
       "      <td>65.0</td>\n",
       "      <td>0.1</td>\n",
       "      <td>584.259210</td>\n",
       "      <td>33736494.0</td>\n",
       "      <td>17.2</td>\n",
       "      <td>17.3</td>\n",
       "      <td>0.479</td>\n",
       "      <td>10.1</td>\n",
       "    </tr>\n",
       "    <tr>\n",
       "      <th>1</th>\n",
       "      <td>Afghanistan</td>\n",
       "      <td>2014</td>\n",
       "      <td>Developing</td>\n",
       "      <td>59.9</td>\n",
       "      <td>271.0</td>\n",
       "      <td>64</td>\n",
       "      <td>0.01</td>\n",
       "      <td>73.523582</td>\n",
       "      <td>62.0</td>\n",
       "      <td>492</td>\n",
       "      <td>...</td>\n",
       "      <td>58.0</td>\n",
       "      <td>8.18</td>\n",
       "      <td>62.0</td>\n",
       "      <td>0.1</td>\n",
       "      <td>612.696514</td>\n",
       "      <td>327582.0</td>\n",
       "      <td>17.5</td>\n",
       "      <td>17.5</td>\n",
       "      <td>0.476</td>\n",
       "      <td>10.0</td>\n",
       "    </tr>\n",
       "    <tr>\n",
       "      <th>2</th>\n",
       "      <td>Afghanistan</td>\n",
       "      <td>2013</td>\n",
       "      <td>Developing</td>\n",
       "      <td>59.9</td>\n",
       "      <td>268.0</td>\n",
       "      <td>66</td>\n",
       "      <td>0.01</td>\n",
       "      <td>73.219243</td>\n",
       "      <td>64.0</td>\n",
       "      <td>430</td>\n",
       "      <td>...</td>\n",
       "      <td>62.0</td>\n",
       "      <td>8.13</td>\n",
       "      <td>64.0</td>\n",
       "      <td>0.1</td>\n",
       "      <td>631.744976</td>\n",
       "      <td>31731688.0</td>\n",
       "      <td>17.7</td>\n",
       "      <td>17.7</td>\n",
       "      <td>0.470</td>\n",
       "      <td>9.9</td>\n",
       "    </tr>\n",
       "  </tbody>\n",
       "</table>\n",
       "<p>3 rows × 22 columns</p>\n",
       "</div>"
      ],
      "text/plain": [
       "       Country  Year      Status  Life expectancy   Adult Mortality  \\\n",
       "0  Afghanistan  2015  Developing              65.0            263.0   \n",
       "1  Afghanistan  2014  Developing              59.9            271.0   \n",
       "2  Afghanistan  2013  Developing              59.9            268.0   \n",
       "\n",
       "   infant deaths  Alcohol  percentage expenditure  Hepatitis B  Measles   ...  \\\n",
       "0             62     0.01               71.279624         65.0      1154  ...   \n",
       "1             64     0.01               73.523582         62.0       492  ...   \n",
       "2             66     0.01               73.219243         64.0       430  ...   \n",
       "\n",
       "   Polio  Total expenditure  Diphtheria    HIV/AIDS         GDP  Population  \\\n",
       "0    6.0               8.16         65.0        0.1  584.259210  33736494.0   \n",
       "1   58.0               8.18         62.0        0.1  612.696514    327582.0   \n",
       "2   62.0               8.13         64.0        0.1  631.744976  31731688.0   \n",
       "\n",
       "    thinness  1-19 years   thinness 5-9 years  \\\n",
       "0                   17.2                 17.3   \n",
       "1                   17.5                 17.5   \n",
       "2                   17.7                 17.7   \n",
       "\n",
       "   Income composition of resources  Schooling  \n",
       "0                            0.479       10.1  \n",
       "1                            0.476       10.0  \n",
       "2                            0.470        9.9  \n",
       "\n",
       "[3 rows x 22 columns]"
      ]
     },
     "execution_count": 1,
     "metadata": {},
     "output_type": "execute_result"
    }
   ],
   "source": [
    "import pandas as pd\n",
    "from matplotlib import pyplot as plt\n",
    "#https://www.kaggle.com/datasets/kumarajarshi/life-expectancy-who/data\n",
    "df = pd.read_csv('data.csv')\n",
    "df.head(3)"
   ]
  },
  {
   "cell_type": "code",
   "execution_count": 2,
   "metadata": {},
   "outputs": [
    {
     "name": "stdout",
     "output_type": "stream",
     "text": [
      "2485\n"
     ]
    },
    {
     "data": {
      "text/plain": [
       "[(584.25921, 65.0), (612.696514, 59.9), (631.744976, 59.9), (669.959, 59.5)]"
      ]
     },
     "execution_count": 2,
     "metadata": {},
     "output_type": "execute_result"
    }
   ],
   "source": [
    "import math\n",
    "df_rel = df[['Life expectancy ', 'GDP']]\n",
    "data = df_rel.to_dict()\n",
    "l = len(list(data['GDP'].values()))\n",
    "for k in data:\n",
    "    data[k] = list(data[k].values())\n",
    "final_data = [(data['GDP'][i],data['Life expectancy '][i]) for i in range(l)]\n",
    "data = final_data\n",
    "data = [(x,y) for x,y in data if not math.isnan(x) and not math.isnan(y)]\n",
    "print(len(data))\n",
    "data[:4]"
   ]
  },
  {
   "cell_type": "markdown",
   "metadata": {},
   "source": [
    "First, we'll do some basic statistics on this dataset to get an understanding for what we're working with."
   ]
  },
  {
   "cell_type": "code",
   "execution_count": 3,
   "metadata": {},
   "outputs": [
    {
     "name": "stdout",
     "output_type": "stream",
     "text": [
      "Basic Statistics\n",
      "- [GDP] min: 1.68135; max: 119172.7418; avg: 7494.210719388659\n",
      "- [LE] min: 36.3; max: 89.0; avg: 69.37066398390344\n"
     ]
    }
   ],
   "source": [
    "gdps = [x[0] for x in data]\n",
    "les = [x[1] for x in data]\n",
    "min_gdp = min(gdps)\n",
    "max_gdp = max(gdps)\n",
    "min_le = min(les)\n",
    "max_le = max(les)\n",
    "avg_gdp = sum(gdps)/len(gdps)\n",
    "avg_le = sum(les)/len(les)\n",
    "print(f'Basic Statistics\\n- [GDP] min: {min_gdp}; max: {max_gdp}; avg: {avg_gdp}')\n",
    "print(f'- [LE] min: {min_le}; max: {max_le}; avg: {avg_le}')"
   ]
  },
  {
   "cell_type": "code",
   "execution_count": 4,
   "metadata": {},
   "outputs": [
    {
     "ename": "NameError",
     "evalue": "name 'p' is not defined",
     "output_type": "error",
     "traceback": [
      "\u001b[0;31m---------------------------------------------------------------------------\u001b[0m",
      "\u001b[0;31mNameError\u001b[0m                                 Traceback (most recent call last)",
      "Cell \u001b[0;32mIn[4], line 1\u001b[0m\n\u001b[0;32m----> 1\u001b[0m \u001b[43mp\u001b[49m\u001b[38;5;241m.\u001b[39mplotGeneric(data\u001b[38;5;241m=\u001b[39m([gdps[i] \u001b[38;5;28;01mfor\u001b[39;00m i \u001b[38;5;129;01min\u001b[39;00m \u001b[38;5;28mrange\u001b[39m(\u001b[38;5;28mlen\u001b[39m(gdps)) \u001b[38;5;28;01mif\u001b[39;00m les[i] \u001b[38;5;241m>\u001b[39m avg_le \u001b[38;5;129;01mand\u001b[39;00m gdps[i] \u001b[38;5;241m>\u001b[39m avg_gdp],\n\u001b[1;32m      2\u001b[0m                     [les[i] \u001b[38;5;28;01mfor\u001b[39;00m i \u001b[38;5;129;01min\u001b[39;00m \u001b[38;5;28mrange\u001b[39m(\u001b[38;5;28mlen\u001b[39m(gdps)) \u001b[38;5;28;01mif\u001b[39;00m les[i] \u001b[38;5;241m>\u001b[39m avg_le \u001b[38;5;129;01mand\u001b[39;00m gdps[i] \u001b[38;5;241m>\u001b[39m avg_gdp]),label\u001b[38;5;241m=\u001b[39m\u001b[38;5;124m'\u001b[39m\u001b[38;5;124mabove both averages\u001b[39m\u001b[38;5;124m'\u001b[39m,\n\u001b[1;32m      3\u001b[0m                     scatterArgs\u001b[38;5;241m=\u001b[39m{\u001b[38;5;124m'\u001b[39m\u001b[38;5;124ms\u001b[39m\u001b[38;5;124m'\u001b[39m:\u001b[38;5;241m1.5\u001b[39m,\u001b[38;5;124m'\u001b[39m\u001b[38;5;124mcolor\u001b[39m\u001b[38;5;124m'\u001b[39m:\u001b[38;5;124m'\u001b[39m\u001b[38;5;124mg\u001b[39m\u001b[38;5;124m'\u001b[39m},\n\u001b[1;32m      4\u001b[0m                     wait\u001b[38;5;241m=\u001b[39m\u001b[38;5;28;01mTrue\u001b[39;00m)\n\u001b[1;32m      5\u001b[0m p\u001b[38;5;241m.\u001b[39m_legend()\n\u001b[1;32m      6\u001b[0m p\u001b[38;5;241m.\u001b[39mplotGeneric(data\u001b[38;5;241m=\u001b[39m([gdps[i] \u001b[38;5;28;01mfor\u001b[39;00m i \u001b[38;5;129;01min\u001b[39;00m \u001b[38;5;28mrange\u001b[39m(\u001b[38;5;28mlen\u001b[39m(gdps)) \u001b[38;5;28;01mif\u001b[39;00m les[i] \u001b[38;5;241m>\u001b[39m avg_le \u001b[38;5;129;01mand\u001b[39;00m gdps[i] \u001b[38;5;241m<\u001b[39m\u001b[38;5;241m=\u001b[39m avg_gdp],\n\u001b[1;32m      7\u001b[0m                     [les[i] \u001b[38;5;28;01mfor\u001b[39;00m i \u001b[38;5;129;01min\u001b[39;00m \u001b[38;5;28mrange\u001b[39m(\u001b[38;5;28mlen\u001b[39m(gdps)) \u001b[38;5;28;01mif\u001b[39;00m les[i] \u001b[38;5;241m>\u001b[39m avg_le \u001b[38;5;129;01mand\u001b[39;00m gdps[i] \u001b[38;5;241m<\u001b[39m\u001b[38;5;241m=\u001b[39m avg_gdp]),label\u001b[38;5;241m=\u001b[39m\u001b[38;5;124m'\u001b[39m\u001b[38;5;124mabove average LE\u001b[39m\u001b[38;5;124m'\u001b[39m,\n\u001b[1;32m      8\u001b[0m                     scatterArgs\u001b[38;5;241m=\u001b[39m{\u001b[38;5;124m'\u001b[39m\u001b[38;5;124ms\u001b[39m\u001b[38;5;124m'\u001b[39m:\u001b[38;5;241m1.5\u001b[39m,\u001b[38;5;124m'\u001b[39m\u001b[38;5;124mcolor\u001b[39m\u001b[38;5;124m'\u001b[39m:\u001b[38;5;124m'\u001b[39m\u001b[38;5;124my\u001b[39m\u001b[38;5;124m'\u001b[39m},\n\u001b[1;32m      9\u001b[0m                     wait\u001b[38;5;241m=\u001b[39m\u001b[38;5;28;01mTrue\u001b[39;00m)\n",
      "\u001b[0;31mNameError\u001b[0m: name 'p' is not defined"
     ]
    }
   ],
   "source": [
    "p.plotGeneric(data=([gdps[i] for i in range(len(gdps)) if les[i] > avg_le and gdps[i] > avg_gdp],\n",
    "                    [les[i] for i in range(len(gdps)) if les[i] > avg_le and gdps[i] > avg_gdp]),label='above both averages',\n",
    "                    scatterArgs={'s':1.5,'color':'g'},\n",
    "                    wait=True)\n",
    "p._legend()\n",
    "p.plotGeneric(data=([gdps[i] for i in range(len(gdps)) if les[i] > avg_le and gdps[i] <= avg_gdp],\n",
    "                    [les[i] for i in range(len(gdps)) if les[i] > avg_le and gdps[i] <= avg_gdp]),label='above average LE',\n",
    "                    scatterArgs={'s':1.5,'color':'y'},\n",
    "                    wait=True)\n",
    "p._legend()\n",
    "p.plotGeneric(data=([gdps[i] for i in range(len(gdps)) if les[i] <= avg_le and gdps[i] > avg_gdp],\n",
    "                    [les[i] for i in range(len(gdps)) if les[i] <= avg_le and gdps[i] > avg_gdp]),label='above average gdp',\n",
    "                    scatterArgs={'s':1.5,'color':'b'},\n",
    "                    wait=True)\n",
    "p._legend()\n",
    "p.plotGeneric(data=([gdps[i] for i in range(len(gdps)) if les[i] <= avg_le and gdps[i] <= avg_gdp],\n",
    "                    [les[i] for i in range(len(gdps)) if les[i] <= avg_le and gdps[i] <= avg_gdp]),label='below both averages',\n",
    "                    scatterArgs={'s':0.25,'color':'r'},\n",
    "                    wait=True,\n",
    "                    chart={'title':'life expectancy (country) vs. GDP, 2000-2015',\n",
    "                           'xlabel':'GDP ($)',\n",
    "                           'ylabel':'Life Expectancy (years)'})\n",
    "plt.plot([1000,70000],[avg_le,avg_le],label='average LE',color='black')\n",
    "plt.plot([avg_gdp,avg_gdp],[55,84.5],label='average GDP',color='teal')\n",
    "plt.plot([])\n",
    "plt.legend()\n",
    "p._showPlt()"
   ]
  },
  {
   "cell_type": "code",
   "execution_count": null,
   "metadata": {},
   "outputs": [],
   "source": [
    "#todo: knn, other clustering"
   ]
  },
  {
   "cell_type": "markdown",
   "metadata": {},
   "source": [
    "## Benchmarking `numpy` Functions\n",
    "- let's benchmark some fundamental `np.linalg` matrix and vector functions to get an understanding of the implementation speed\n",
    "- we will connect this to the theoretical time complexity of these operations"
   ]
  },
  {
   "cell_type": "code",
   "execution_count": null,
   "metadata": {},
   "outputs": [],
   "source": [
    "import numpy as np\n",
    "from numpy.linalg import svd\n",
    "import time\n",
    "from plot import Plot\n",
    "\n",
    "from tqdm import tqdm\n",
    "p = Plot()\n",
    "rng = np.random.default_rng()\n",
    "m = rng.random((5,5))\n",
    "sizes = [2 * (2**k) for k in range(3,10)]\n",
    "mtxs = [rng.random((s,s)) for s in sizes]\n",
    "times = []\n",
    "for m in tqdm(mtxs):\n",
    "    t = time.time()\n",
    "    svd(m)\n",
    "    total_t = time.time() - t\n",
    "    times.append(total_t)"
   ]
  },
  {
   "cell_type": "code",
   "execution_count": null,
   "metadata": {},
   "outputs": [],
   "source": [
    "import math\n",
    "import random\n",
    "chart = {\n",
    "            'xlabel': f'Dimension of matrix',\n",
    "            'ylabel': f'Time',\n",
    "            'title': f'Size vs. Time for SVD for Square Matrix',\n",
    "            'lobf':1\n",
    "        }\n",
    "p.plotGeneric(data=(sizes,times),chart=chart,wait=True,label='time')\n",
    "p._legend()\n",
    "p.plotGeneric(data=(sizes,[2.5* (s**3)/10**9 for s in sizes]),label='O(n^3)',wait=1)\n",
    "p._showPlt(legend=1)"
   ]
  },
  {
   "cell_type": "code",
   "execution_count": null,
   "metadata": {},
   "outputs": [],
   "source": [
    "print(sizes)\n",
    "print(times)"
   ]
  },
  {
   "cell_type": "markdown",
   "metadata": {},
   "source": [
    "Above is the previous method for benchmarking. Below we'll demonstrate the new method, using the `Plot` class"
   ]
  },
  {
   "cell_type": "code",
   "execution_count": 1,
   "metadata": {},
   "outputs": [
    {
     "name": "stderr",
     "output_type": "stream",
     "text": [
      "100%|██████████| 9/9 [00:00<00:00, 66.66it/s]\n"
     ]
    },
    {
     "name": "stdout",
     "output_type": "stream",
     "text": [
      "Sizes [2, 4, 8, 16, 32, 64, 128, 256, 512]\n",
      "Times [6.29425048828125e-05, 3.814697265625e-06, 7.152557373046875e-06, 6.29425048828125e-05, 2.5033950805664062e-05, 0.00032782554626464844, 0.0019042491912841797, 0.014571905136108398, 0.11749482154846191]\n"
     ]
    },
    {
     "data": {
      "image/png": "[encoded data removed]",
      "text/plain": [
       "<Figure size 640x480 with 1 Axes>"
      ]
     },
     "metadata": {},
     "output_type": "display_data"
    }
   ],
   "source": [
    "import numpy as np\n",
    "from plot import Plot\n",
    "from numpy.linalg import svd\n",
    "P = Plot()\n",
    "P.benchmark_np(np.linalg.norm,type_='tensor',gen_info={'range':(2,8)})"
   ]
  }
 ],
 "metadata": {
  "kernelspec": {
   "display_name": "Python 3.11.6 64-bit",
   "language": "python",
   "name": "python3"
  },
  "language_info": {
   "codemirror_mode": {
    "name": "ipython",
    "version": 3
   },
   "file_extension": ".py",
   "mimetype": "text/x-python",
   "name": "python",
   "nbconvert_exporter": "python",
   "pygments_lexer": "ipython3",
   "version": "3.11.6"
  },
  "orig_nbformat": 4,
  "vscode": {
   "interpreter": {
    "hash": "b0fa6594d8f4cbf19f97940f81e996739fb7646882a419484c72d19e05852a7e"
   }
  }
 },
 "nbformat": 4,
 "nbformat_minor": 2
}
