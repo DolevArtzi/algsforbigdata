{
 "cells": [
  {
   "cell_type": "code",
   "execution_count": null,
   "metadata": {},
   "outputs": [],
   "source": [
    "import pandas as pd\n",
    "from matplotlib import pyplot as plt\n",
    "#https://www.kaggle.com/datasets/kumarajarshi/life-expectancy-who/data\n",
    "df = pd.read_csv('data.csv')\n",
    "df.head(3)"
   ]
  },
  {
   "cell_type": "code",
   "execution_count": null,
   "metadata": {},
   "outputs": [],
   "source": [
    "import math\n",
    "df_rel = df[['Life expectancy ', 'GDP']]\n",
    "data = df_rel.to_dict()\n",
    "l = len(list(data['GDP'].values()))\n",
    "for k in data:\n",
    "    data[k] = list(data[k].values())\n",
    "final_data = [(data['GDP'][i],data['Life expectancy '][i]) for i in range(l)]\n",
    "data = final_data\n",
    "data = [(x,y) for x,y in data if not math.isnan(x) and not math.isnan(y)]\n",
    "print(len(data))\n",
    "data[:4]"
   ]
  },
  {
   "cell_type": "markdown",
   "metadata": {},
   "source": [
    "First, we'll do some basic statistics on this dataset to get an understanding for what we're working with."
   ]
  },
  {
   "cell_type": "code",
   "execution_count": null,
   "metadata": {},
   "outputs": [],
   "source": [
    "gdps = [x[0] for x in data]\n",
    "les = [x[1] for x in data]\n",
    "min_gdp = min(gdps)\n",
    "max_gdp = max(gdps)\n",
    "min_le = min(les)\n",
    "max_le = max(les)\n",
    "avg_gdp = sum(gdps)/len(gdps)\n",
    "avg_le = sum(les)/len(les)\n",
    "print(f'Basic Statistics\\n- [GDP] min: {min_gdp}; max: {max_gdp}; avg: {avg_gdp}')\n",
    "print(f'- [LE] min: {min_le}; max: {max_le}; avg: {avg_le}')"
   ]
  },
  {
   "cell_type": "code",
   "execution_count": null,
   "metadata": {},
   "outputs": [],
   "source": [
    "from plot import Plot\n",
    "p = Plot()\n",
    "p.plotGeneric(data=([gdps[i] for i in range(len(gdps)) if les[i] > avg_le and gdps[i] > avg_gdp],\n",
    "                    [les[i] for i in range(len(gdps)) if les[i] > avg_le and gdps[i] > avg_gdp]),label='above both averages',\n",
    "                    scatterArgs={'s':1.5,'color':'g'},\n",
    "                    wait=True)\n",
    "p._legend()\n",
    "p.plotGeneric(data=([gdps[i] for i in range(len(gdps)) if les[i] > avg_le and gdps[i] <= avg_gdp],\n",
    "                    [les[i] for i in range(len(gdps)) if les[i] > avg_le and gdps[i] <= avg_gdp]),label='above average LE',\n",
    "                    scatterArgs={'s':1.5,'color':'y'},\n",
    "                    wait=True)\n",
    "p._legend()\n",
    "p.plotGeneric(data=([gdps[i] for i in range(len(gdps)) if les[i] <= avg_le and gdps[i] > avg_gdp],\n",
    "                    [les[i] for i in range(len(gdps)) if les[i] <= avg_le and gdps[i] > avg_gdp]),label='above average gdp',\n",
    "                    scatterArgs={'s':1.5,'color':'b'},\n",
    "                    wait=True)\n",
    "p._legend()\n",
    "p.plotGeneric(data=([gdps[i] for i in range(len(gdps)) if les[i] <= avg_le and gdps[i] <= avg_gdp],\n",
    "                    [les[i] for i in range(len(gdps)) if les[i] <= avg_le and gdps[i] <= avg_gdp]),label='below both averages',\n",
    "                    scatterArgs={'s':0.25,'color':'r'},\n",
    "                    wait=True,\n",
    "                    chart={'title':'life expectancy (country) vs. GDP, 2000-2015',\n",
    "                           'xlabel':'GDP ($)',\n",
    "                           'ylabel':'Life Expectancy (years)'})\n",
    "plt.plot([1000,70000],[avg_le,avg_le],label='average LE',color='black')\n",
    "plt.plot([avg_gdp,avg_gdp],[55,84.5],label='average GDP',color='teal')\n",
    "plt.plot([])\n",
    "plt.legend()\n",
    "p._showPlt()"
   ]
  },
  {
   "cell_type": "code",
   "execution_count": null,
   "metadata": {},
   "outputs": [],
   "source": [
    "cat1 = [i for i in range(len(gdps)) if gdps[i] < avg_gdp and les[i] < avg_le]\n",
    "cat2 = [i for i in range(len(gdps)) if gdps[i] < avg_gdp and les[i] >= avg_le]\n",
    "cat3 = [i for i in range(len(gdps)) if gdps[i] >= avg_gdp and les[i] < avg_le]\n",
    "cat4 = [i for i in range(len(gdps)) if gdps[i] >= avg_gdp and les[i] >= avg_le]\n",
    "\n",
    "def _extract(idxs,arr):\n",
    "       out = []\n",
    "       for i in idxs:\n",
    "              out.append(arr[i])\n",
    "       return out\n",
    "\n",
    "def extract(idxs,*arrs):\n",
    "       out = []\n",
    "       for _,a in enumerate(*arrs):\n",
    "              out.append(_extract(idxs,a))\n",
    "       return tuple(out)\n",
    "\n",
    "def _extract_category(predictions,cat_num):\n",
    "       print(predictions)\n",
    "       return [i for i,x in enumerate(predictions) if x == cat_num]\n",
    "\n",
    "def extract_categories(predictions):\n",
    "       out = []\n",
    "       for cat_num in range(1,5):\n",
    "              out.append(_extract_category(predictions,cat_num))\n",
    "       for i in range(len(out)):\n",
    "              print(len(out[i]),len(gdps),len(les))\n",
    "              out[i] = extract(out[i],[gdps,les])\n",
    "       return out\n",
    "\n",
    "from sklearn.neighbors import KNeighborsClassifier, RadiusNeighborsClassifier\n",
    "import numpy as np\n",
    "n = KNeighborsClassifier(n_neighbors=2)\n",
    "\n",
    "categories = [1,2,3,4]\n",
    "y = []\n",
    "cats = [cat1,cat2,cat3,cat4]\n",
    "for i,cat in enumerate(cats):\n",
    "    for c in cat:\n",
    "        y.append(i+1)\n",
    "y = np.array(y)\n",
    "X = np.array(list(zip(gdps,les)))\n",
    "classifier = n.fit(X,y)\n",
    "predictions = classifier.predict(X)\n",
    "cats = extract_categories(predictions)\n",
    "print(f'cats {cats}')\n",
    "colors = ['g','y','b','r']\n",
    "p.plotGeneric(data=cats[3],label='best',\n",
    "                    scatterArgs={'s':1.5,'color':'g'},\n",
    "                    wait=True)\n",
    "p._legend()\n",
    "p.plotGeneric(data=cats[1],label='bad gdp, good le',\n",
    "                    scatterArgs={'s':1.5,'color':'y'},\n",
    "                    wait=True)\n",
    "p._legend()\n",
    "p.plotGeneric(data=cats[2],label='good gdp, bad le',\n",
    "                    scatterArgs={'s':1.5,'color':'b'},\n",
    "                    wait=True)\n",
    "p._legend()\n",
    "p.plotGeneric(data=cats[0],label='worst',\n",
    "                    scatterArgs={'s':0.2,'color':'r'},\n",
    "                    wait=True,\n",
    "                    chart={'title':'life expectancy (country) vs. GDP, 2000-2015 [KNN]',\n",
    "                           'xlabel':'GDP ($)',\n",
    "                           'ylabel':'Life Expectancy (years)'})\n",
    "plt.plot([1000,70000],[avg_le,avg_le],label='average LE',color='black')\n",
    "plt.plot([avg_gdp,avg_gdp],[55,84.5],label='average GDP',color='teal')\n",
    "plt.legend()\n",
    "p._showPlt()\n",
    "print('best',len(cats[3][0]))\n",
    "print('good le',len(cats[1][0]))\n",
    "print('good gdp',len(cats[2][0]))\n",
    "print('worst',len(cats[0][0]))\n",
    "print(\"Test set score: {:.2f}\".format(np.mean(predictions == y)))\n"
   ]
  },
  {
   "cell_type": "code",
   "execution_count": null,
   "metadata": {},
   "outputs": [],
   "source": [
    "len(cats),len(cats[0]),len(cats[0][0])"
   ]
  },
  {
   "cell_type": "code",
   "execution_count": null,
   "metadata": {},
   "outputs": [],
   "source": [
    "!pip3 install mglearn --q"
   ]
  },
  {
   "cell_type": "code",
   "execution_count": null,
   "metadata": {},
   "outputs": [],
   "source": [
    "from matplotlib import pyplot as plt\n",
    "import mglearn\n",
    "fig, axes = plt.subplots(1, 3, figsize=(10, 3))\n",
    "for n_neighbors, ax in zip([1, 6, 40], axes):\n",
    "# the fit method returns the object self, so we can instantiate\n",
    "# and fit in one line\n",
    "    clf = KNeighborsClassifier(n_neighbors=n_neighbors).fit(X, y) \n",
    "    mglearn.plots.plot_2d_separator(clf, X, fill=True, eps=0.05, ax=ax, alpha=.4) \n",
    "    mglearn.discrete_scatter(X[:, 0], X[:, 1], y, ax=ax,s=5)\n",
    "    ax.set_title(\"{} neighbor(s)\".format(n_neighbors))\n",
    "    ax.set_xlabel(\"feature 0\",fontsize=10)\n",
    "    ax.set_ylabel(\"feature 1\",fontsize=2)\n",
    "_ = axes[0].legend(loc=3)\n",
    "# Intro to ML w py. pg 36"
   ]
  },
  {
   "cell_type": "code",
   "execution_count": null,
   "metadata": {},
   "outputs": [],
   "source": [
    "rn = RadiusNeighborsClassifier(radius=1.5)\n",
    "classifier = rn.fit(X,y)\n",
    "predictions = classifier.predict(X)\n",
    "cats = extract_categories(predictions)\n",
    "p.plotGeneric(data=cats[3],label='best',\n",
    "                    scatterArgs={'s':1.5,'color':'g'},\n",
    "                    wait=True)\n",
    "p._legend()\n",
    "p.plotGeneric(data=cats[1],label='bad gdp, good le',\n",
    "                    scatterArgs={'s':1.5,'color':'y'},\n",
    "                    wait=True)\n",
    "p._legend()\n",
    "p.plotGeneric(data=cats[2],label='good gdp, bad le',\n",
    "                    scatterArgs={'s':1.5,'color':'b'},\n",
    "                    wait=True)\n",
    "p._legend()\n",
    "p.plotGeneric(data=cats[0],label='worst',\n",
    "                    scatterArgs={'s':1.5,'color':'r'},\n",
    "                    wait=True,\n",
    "                    chart={'title':'life expectancy (country) vs. GDP, 2000-2015 [1-R_NN]',\n",
    "                           'xlabel':'GDP ($)',\n",
    "                           'ylabel':'Life Expectancy (years)'})\n",
    "plt.plot([1000,70000],[avg_le,avg_le],label='average LE',color='black')\n",
    "plt.plot([avg_gdp,avg_gdp],[55,84.5],label='average GDP',color='teal')\n",
    "plt.legend()\n",
    "p._showPlt()\n",
    "print('best',len(cats[3][0]))\n",
    "print('good le',len(cats[1][0]))\n",
    "print('good gdp',len(cats[2][0]))\n",
    "print('worst',len(cats[0][0]))"
   ]
  },
  {
   "cell_type": "code",
   "execution_count": null,
   "metadata": {},
   "outputs": [],
   "source": [
    "#todo: knn, other clustering"
   ]
  },
  {
   "cell_type": "code",
   "execution_count": 1,
   "metadata": {},
   "outputs": [
    {
     "name": "stdout",
     "output_type": "stream",
     "text": [
      "       Country  Year      Status  Life expectancy   Adult Mortality  \\\n",
      "0  Afghanistan  2015  Developing              65.0            263.0   \n",
      "1  Afghanistan  2014  Developing              59.9            271.0   \n",
      "2  Afghanistan  2013  Developing              59.9            268.0   \n",
      "3  Afghanistan  2012  Developing              59.5            272.0   \n",
      "4  Afghanistan  2011  Developing              59.2            275.0   \n",
      "\n",
      "   infant deaths  Alcohol  percentage expenditure  Hepatitis B  Measles   ...  \\\n",
      "0             62     0.01               71.279624         65.0      1154  ...   \n",
      "1             64     0.01               73.523582         62.0       492  ...   \n",
      "2             66     0.01               73.219243         64.0       430  ...   \n",
      "3             69     0.01               78.184215         67.0      2787  ...   \n",
      "4             71     0.01                7.097109         68.0      3013  ...   \n",
      "\n",
      "   Polio  Total expenditure  Diphtheria    HIV/AIDS         GDP  Population  \\\n",
      "0    6.0               8.16         65.0        0.1  584.259210  33736494.0   \n",
      "1   58.0               8.18         62.0        0.1  612.696514    327582.0   \n",
      "2   62.0               8.13         64.0        0.1  631.744976  31731688.0   \n",
      "3   67.0               8.52         67.0        0.1  669.959000   3696958.0   \n",
      "4   68.0               7.87         68.0        0.1   63.537231   2978599.0   \n",
      "\n",
      "    thinness  1-19 years   thinness 5-9 years  \\\n",
      "0                   17.2                 17.3   \n",
      "1                   17.5                 17.5   \n",
      "2                   17.7                 17.7   \n",
      "3                   17.9                 18.0   \n",
      "4                   18.2                 18.2   \n",
      "\n",
      "   Income composition of resources  Schooling  \n",
      "0                            0.479       10.1  \n",
      "1                            0.476       10.0  \n",
      "2                            0.470        9.9  \n",
      "3                            0.463        9.8  \n",
      "4                            0.454        9.5  \n",
      "\n",
      "[5 rows x 22 columns]\n",
      "Basic Statistics\n",
      "- [GDP] min: 1.68135; max: 119172.7418; avg: 7494.210719388659\n",
      "- [LE] min: 36.3; max: 89.0; avg: 69.37066398390344\n",
      "Basic Statistics\n",
      "- [GDP] min: 1.68135; max: 119172.7418; avg: 7494.210719388659\n",
      "- [LE] min: 36.3; max: 89.0; avg: 69.37066398390344\n"
     ]
    },
    {
     "ename": "IndexError",
     "evalue": "tuple index out of range",
     "output_type": "error",
     "traceback": [
      "\u001b[0;31m---------------------------------------------------------------------------\u001b[0m",
      "\u001b[0;31mIndexError\u001b[0m                                Traceback (most recent call last)",
      "Cell \u001b[0;32mIn[1], line 14\u001b[0m\n\u001b[1;32m     12\u001b[0m members \u001b[38;5;241m=\u001b[39m [m1,m2,m3,m4]\n\u001b[1;32m     13\u001b[0m cat_info \u001b[38;5;241m=\u001b[39m {\u001b[38;5;124m'\u001b[39m\u001b[38;5;124mbest\u001b[39m\u001b[38;5;124m'\u001b[39m:m1,\u001b[38;5;124m'\u001b[39m\u001b[38;5;124mgood gdp\u001b[39m\u001b[38;5;124m'\u001b[39m:m2,\u001b[38;5;124m'\u001b[39m\u001b[38;5;124mgood le\u001b[39m\u001b[38;5;124m'\u001b[39m:m3,\u001b[38;5;124m'\u001b[39m\u001b[38;5;124mworst\u001b[39m\u001b[38;5;124m'\u001b[39m:m4}\n\u001b[0;32m---> 14\u001b[0m \u001b[43mp\u001b[49m\u001b[38;5;241;43m.\u001b[39;49m\u001b[43mclustering\u001b[49m\u001b[43m(\u001b[49m\u001b[38;5;124;43m'\u001b[39;49m\u001b[38;5;124;43mGDP\u001b[39;49m\u001b[38;5;124;43m'\u001b[39;49m\u001b[43m,\u001b[49m\u001b[38;5;124;43m'\u001b[39;49m\u001b[38;5;124;43mLife expectancy \u001b[39;49m\u001b[38;5;124;43m'\u001b[39;49m\u001b[43m,\u001b[49m\u001b[43mcat_info\u001b[49m\u001b[38;5;241;43m=\u001b[39;49m\u001b[43mcat_info\u001b[49m\u001b[43m)\u001b[49m\n\u001b[1;32m     15\u001b[0m \u001b[38;5;66;03m#     def clustering(self,x_name,y_name,cat_info,plot=1):\u001b[39;00m\n",
      "File \u001b[0;32m~/code/algsforbigdata/plot.py:712\u001b[0m, in \u001b[0;36mPlot.clustering\u001b[0;34m(self, x_name, y_name, cat_info, plot)\u001b[0m\n\u001b[1;32m    710\u001b[0m classifier \u001b[39m=\u001b[39m n\u001b[39m.\u001b[39mfit(X,y)\n\u001b[1;32m    711\u001b[0m predictions \u001b[39m=\u001b[39m classifier\u001b[39m.\u001b[39mpredict(X)\n\u001b[0;32m--> 712\u001b[0m extracted_cats \u001b[39m=\u001b[39m  \u001b[39mself\u001b[39;49m\u001b[39m.\u001b[39;49mextract_categories(predictions,x_name,y_name)\n\u001b[1;32m    713\u001b[0m \u001b[39mif\u001b[39;00m \u001b[39mnot\u001b[39;00m plot:\n\u001b[1;32m    714\u001b[0m     \u001b[39mreturn\u001b[39;00m extracted_cats\n",
      "File \u001b[0;32m~/code/algsforbigdata/plot.py:679\u001b[0m, in \u001b[0;36mPlot.extract_categories\u001b[0;34m(self, predictions, ind_name, dep_name)\u001b[0m\n\u001b[1;32m    677\u001b[0m         out\u001b[39m.\u001b[39mappend(\u001b[39mself\u001b[39m\u001b[39m.\u001b[39m_extract_category(predictions,cat_num))\n\u001b[1;32m    678\u001b[0m \u001b[39mfor\u001b[39;00m i \u001b[39min\u001b[39;00m \u001b[39mrange\u001b[39m(\u001b[39mlen\u001b[39m(out)):\n\u001b[0;32m--> 679\u001b[0m         out[i] \u001b[39m=\u001b[39m \u001b[39mself\u001b[39;49m\u001b[39m.\u001b[39;49mextract(out[i],data)\n\u001b[1;32m    680\u001b[0m \u001b[39mreturn\u001b[39;00m out\n",
      "File \u001b[0;32m~/code/algsforbigdata/plot.py:645\u001b[0m, in \u001b[0;36mPlot.extract\u001b[0;34m(self, idxs, *arrs)\u001b[0m\n\u001b[1;32m    643\u001b[0m out \u001b[39m=\u001b[39m []\n\u001b[1;32m    644\u001b[0m \u001b[39mfor\u001b[39;00m _,a \u001b[39min\u001b[39;00m \u001b[39menumerate\u001b[39m(\u001b[39m*\u001b[39marrs):\n\u001b[0;32m--> 645\u001b[0m         out\u001b[39m.\u001b[39mappend(\u001b[39mself\u001b[39;49m\u001b[39m.\u001b[39;49m_extract(idxs,a))\n\u001b[1;32m    646\u001b[0m \u001b[39mreturn\u001b[39;00m out\n",
      "File \u001b[0;32m~/code/algsforbigdata/plot.py:626\u001b[0m, in \u001b[0;36mPlot._extract\u001b[0;34m(self, idxs, arr)\u001b[0m\n\u001b[1;32m    624\u001b[0m out \u001b[39m=\u001b[39m []\n\u001b[1;32m    625\u001b[0m \u001b[39mfor\u001b[39;00m i \u001b[39min\u001b[39;00m idxs:\n\u001b[0;32m--> 626\u001b[0m         out\u001b[39m.\u001b[39mappend(arr[i])\n\u001b[1;32m    627\u001b[0m \u001b[39mreturn\u001b[39;00m \u001b[39mtuple\u001b[39m(out)\n",
      "\u001b[0;31mIndexError\u001b[0m: tuple index out of range"
     ]
    }
   ],
   "source": [
    "from plot import Plot\n",
    "p = Plot()\n",
    "\n",
    "# cat1 = [i for i in range(len(gdps)) if gdps[i] < avg_gdp and les[i] < avg_le]\n",
    "# cat2 = [i for i in range(len(gdps)) if gdps[i] < avg_gdp and les[i] >= avg_le]\n",
    "# cat3 = [i for i in range(len(gdps)) if gdps[i] >= avg_gdp and les[i] < avg_le]\n",
    "# cat4 = [i for i in range(len(gdps)) if gdps[i] >= avg_gdp and les[i] >= avg_le]\n",
    "m4 = lambda t: t[0] < p.avgs[0] and t[1] < p.avgs[1]\n",
    "m3 = lambda t: t[0] < p.avgs[0] and t[1] >= p.avgs[1]\n",
    "m2 = lambda t: t[0] >= p.avgs[0] and t[1] < p.avgs[1]\n",
    "m1 = lambda t: t[0] >= p.avgs[0] and t[1] >= p.avgs[1]\n",
    "members = [m1,m2,m3,m4]\n",
    "cat_info = {'best':m1,'good gdp':m2,'good le':m3,'worst':m4}\n",
    "p.clustering('GDP','Life expectancy ',cat_info=cat_info)\n",
    "#     def clustering(self,x_name,y_name,cat_info,plot=1):\n"
   ]
  },
  {
   "cell_type": "code",
   "execution_count": null,
   "metadata": {},
   "outputs": [],
   "source": [
    "cat_info = {'best': lambda t: t }\n",
    "p.clustering('GDP','Life expectancy ',cat_info={'z':lambda t: , 'LE'})\n"
   ]
  }
 ],
 "metadata": {
  "kernelspec": {
   "display_name": "Python 3.11.6 64-bit",
   "language": "python",
   "name": "python3"
  },
  "language_info": {
   "codemirror_mode": {
    "name": "ipython",
    "version": 3
   },
   "file_extension": ".py",
   "mimetype": "text/x-python",
   "name": "python",
   "nbconvert_exporter": "python",
   "pygments_lexer": "ipython3",
   "version": "3.11.6"
  },
  "orig_nbformat": 4,
  "vscode": {
   "interpreter": {
    "hash": "b0fa6594d8f4cbf19f97940f81e996739fb7646882a419484c72d19e05852a7e"
   }
  }
 },
 "nbformat": 4,
 "nbformat_minor": 2
}
