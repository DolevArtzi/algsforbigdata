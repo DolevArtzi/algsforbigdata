{
 "cells": [
  {
   "cell_type": "code",
   "execution_count": null,
   "metadata": {},
   "outputs": [],
   "source": [
    "import pandas as pd\n",
    "from matplotlib import pyplot as plt\n",
    "#https://www.kaggle.com/datasets/kumarajarshi/life-expectancy-who/data\n",
    "df = pd.read_csv('data.csv')\n",
    "df.head(3)"
   ]
  },
  {
   "cell_type": "code",
   "execution_count": null,
   "metadata": {},
   "outputs": [],
   "source": [
    "import math\n",
    "df_rel = df[['Life expectancy ', 'GDP']]\n",
    "data = df_rel.to_dict()\n",
    "l = len(list(data['GDP'].values()))\n",
    "for k in data:\n",
    "    data[k] = list(data[k].values())\n",
    "final_data = [(data['GDP'][i],data['Life expectancy '][i]) for i in range(l)]\n",
    "data = final_data\n",
    "data = [(x,y) for x,y in data if not math.isnan(x) and not math.isnan(y)]\n",
    "print(len(data))\n",
    "data[:4]"
   ]
  },
  {
   "cell_type": "markdown",
   "metadata": {},
   "source": [
    "First, we'll do some basic statistics on this dataset to get an understanding for what we're working with."
   ]
  },
  {
   "cell_type": "code",
   "execution_count": null,
   "metadata": {},
   "outputs": [],
   "source": [
    "gdps = [x[0] for x in data]\n",
    "les = [x[1] for x in data]\n",
    "min_gdp = min(gdps)\n",
    "max_gdp = max(gdps)\n",
    "min_le = min(les)\n",
    "max_le = max(les)\n",
    "avg_gdp = sum(gdps)/len(gdps)\n",
    "avg_le = sum(les)/len(les)\n",
    "print(f'Basic Statistics\\n- [GDP] min: {min_gdp}; max: {max_gdp}; avg: {avg_gdp}')\n",
    "print(f'- [LE] min: {min_le}; max: {max_le}; avg: {avg_le}')"
   ]
  },
  {
   "cell_type": "code",
   "execution_count": null,
   "metadata": {},
   "outputs": [],
   "source": [
    "p.plotGeneric(data=([gdps[i] for i in range(len(gdps)) if les[i] > avg_le and gdps[i] > avg_gdp],\n",
    "                    [les[i] for i in range(len(gdps)) if les[i] > avg_le and gdps[i] > avg_gdp]),label='above both averages',\n",
    "                    scatterArgs={'s':1.5,'color':'g'},\n",
    "                    wait=True)\n",
    "p._legend()\n",
    "p.plotGeneric(data=([gdps[i] for i in range(len(gdps)) if les[i] > avg_le and gdps[i] <= avg_gdp],\n",
    "                    [les[i] for i in range(len(gdps)) if les[i] > avg_le and gdps[i] <= avg_gdp]),label='above average LE',\n",
    "                    scatterArgs={'s':1.5,'color':'y'},\n",
    "                    wait=True)\n",
    "p._legend()\n",
    "p.plotGeneric(data=([gdps[i] for i in range(len(gdps)) if les[i] <= avg_le and gdps[i] > avg_gdp],\n",
    "                    [les[i] for i in range(len(gdps)) if les[i] <= avg_le and gdps[i] > avg_gdp]),label='above average gdp',\n",
    "                    scatterArgs={'s':1.5,'color':'b'},\n",
    "                    wait=True)\n",
    "p._legend()\n",
    "p.plotGeneric(data=([gdps[i] for i in range(len(gdps)) if les[i] <= avg_le and gdps[i] <= avg_gdp],\n",
    "                    [les[i] for i in range(len(gdps)) if les[i] <= avg_le and gdps[i] <= avg_gdp]),label='below both averages',\n",
    "                    scatterArgs={'s':0.25,'color':'r'},\n",
    "                    wait=True,\n",
    "                    chart={'title':'life expectancy (country) vs. GDP, 2000-2015',\n",
    "                           'xlabel':'GDP ($)',\n",
    "                           'ylabel':'Life Expectancy (years)'})\n",
    "plt.plot([1000,70000],[avg_le,avg_le],label='average LE',color='black')\n",
    "plt.plot([avg_gdp,avg_gdp],[55,84.5],label='average GDP',color='teal')\n",
    "plt.plot([])\n",
    "plt.legend()\n",
    "p._showPlt()"
   ]
  },
  {
   "cell_type": "code",
   "execution_count": null,
   "metadata": {},
   "outputs": [],
   "source": [
    "#todo: knn, other clustering"
   ]
  },
  {
   "cell_type": "markdown",
   "metadata": {},
   "source": [
    "## Benchmarking `numpy` Functions\n",
    "- let's benchmark some fundamental `np.linalg` matrix and vector functions to get an understanding of the implementation speed\n",
    "- we will connect this to the theoretical time complexity of these operations"
   ]
  },
  {
   "cell_type": "code",
   "execution_count": null,
   "metadata": {},
   "outputs": [],
   "source": [
    "import numpy as np\n",
    "from numpy.linalg import svd\n",
    "import time\n",
    "from plot import Plot\n",
    "\n",
    "from tqdm import tqdm\n",
    "p = Plot()\n",
    "rng = np.random.default_rng()\n",
    "m = rng.random((5,5))\n",
    "sizes = [2 * (2**k) for k in range(3,10)]\n",
    "mtxs = [rng.random((s,s)) for s in sizes]\n",
    "times = []\n",
    "for m in tqdm(mtxs):\n",
    "    t = time.time()\n",
    "    svd(m)\n",
    "    total_t = time.time() - t\n",
    "    times.append(total_t)"
   ]
  },
  {
   "cell_type": "code",
   "execution_count": null,
   "metadata": {},
   "outputs": [],
   "source": [
    "import math\n",
    "import random\n",
    "chart = {\n",
    "            'xlabel': f'Dimension of matrix',\n",
    "            'ylabel': f'Time',\n",
    "            'title': f'Size vs. Time for SVD for Square Matrix',\n",
    "            'lobf':1\n",
    "        }\n",
    "p.plotGeneric(data=(sizes,times),chart=chart,wait=True,label='time')\n",
    "p._legend()\n",
    "p.plotGeneric(data=(sizes,[2.5* (s**3)/10**9 for s in sizes]),label='O(n^3)',wait=1)\n",
    "p._showPlt(legend=1)"
   ]
  },
  {
   "cell_type": "code",
   "execution_count": null,
   "metadata": {},
   "outputs": [],
   "source": [
    "print(sizes)\n",
    "print(times)"
   ]
  },
  {
   "cell_type": "markdown",
   "metadata": {},
   "source": [
    "Above is the previous method for benchmarking. Below we'll demonstrate the new method, using the `Plot` class"
   ]
  },
  {
   "cell_type": "code",
   "execution_count": 2,
   "metadata": {},
   "outputs": [
    {
     "name": "stderr",
     "output_type": "stream",
     "text": [
      "100%|██████████| 7/7 [00:00<00:00, 30.11it/s]"
     ]
    },
    {
     "name": "stdout",
     "output_type": "stream",
     "text": [
      "Sizes [2, 4, 8, 16, 32, 64, 128]\n",
      "Times [2.8848648071289062e-05, 4.0531158447265625e-06, 5.7220458984375e-06, 4.8160552978515625e-05, 0.0018067359924316406, 0.028831005096435547, 0.20133280754089355]\n"
     ]
    },
    {
     "name": "stderr",
     "output_type": "stream",
     "text": [
      "\n"
     ]
    },
    {
     "data": {
      "image/png": "[encoded data removed]",
      "text/plain": [
       "<Figure size 640x480 with 1 Axes>"
      ]
     },
     "metadata": {},
     "output_type": "display_data"
    }
   ],
   "source": [
    "import numpy as np\n",
    "from plot import Plot\n",
    "P = Plot()\n",
    "dims = 4\n",
    "P.benchmark_np(np.linalg.norm,\n",
    "               type_='tensor',\n",
    "               gen_info={'range':(2,6),'dims':dims},\n",
    "               theory_info={'f':lambda x:x**dims,\n",
    "               'label':'O(n^4)'}\n",
    "               )"
   ]
  }
 ],
 "metadata": {
  "kernelspec": {
   "display_name": "Python 3.11.6 64-bit",
   "language": "python",
   "name": "python3"
  },
  "language_info": {
   "codemirror_mode": {
    "name": "ipython",
    "version": 3
   },
   "file_extension": ".py",
   "mimetype": "text/x-python",
   "name": "python",
   "nbconvert_exporter": "python",
   "pygments_lexer": "ipython3",
   "version": "3.11.6"
  },
  "orig_nbformat": 4,
  "vscode": {
   "interpreter": {
    "hash": "b0fa6594d8f4cbf19f97940f81e996739fb7646882a419484c72d19e05852a7e"
   }
  }
 },
 "nbformat": 4,
 "nbformat_minor": 2
}
